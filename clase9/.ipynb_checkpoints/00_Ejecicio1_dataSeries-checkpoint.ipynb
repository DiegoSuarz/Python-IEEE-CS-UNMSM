{
 "cells": [
  {
   "cell_type": "code",
   "execution_count": 2,
   "id": "8b02019d",
   "metadata": {},
   "outputs": [],
   "source": [
    "import numpy as np\n",
    "import pandas as pd"
   ]
  },
  {
   "cell_type": "code",
   "execution_count": 3,
   "id": "93d36642",
   "metadata": {},
   "outputs": [
    {
     "data": {
      "text/plain": [
       "0    -5\n",
       "1    50\n",
       "2     0\n",
       "3    -1\n",
       "4   -35\n",
       "dtype: int64"
      ]
     },
     "execution_count": 3,
     "metadata": {},
     "output_type": "execute_result"
    }
   ],
   "source": [
    "#Crear dataSeries\n",
    "data_Serie = pd.Series([-5,50,0,-1,-35])\n",
    "data_Serie"
   ]
  },
  {
   "cell_type": "code",
   "execution_count": 4,
   "id": "d4129c2c",
   "metadata": {},
   "outputs": [
    {
     "data": {
      "text/plain": [
       "4   -35\n",
       "0    -5\n",
       "3    -1\n",
       "2     0\n",
       "1    50\n",
       "dtype: int64"
      ]
     },
     "execution_count": 4,
     "metadata": {},
     "output_type": "execute_result"
    }
   ],
   "source": [
    "#Ordenar de manera ascendente los valores de la serie de menor a mayor\n",
    "data_Serie.sort_values()"
   ]
  },
  {
   "cell_type": "code",
   "execution_count": 6,
   "id": "28bc38eb",
   "metadata": {},
   "outputs": [
    {
     "data": {
      "text/plain": [
       "0    -5\n",
       "1    50\n",
       "2     0\n",
       "3    -1\n",
       "4   -35\n",
       "dtype: int64"
      ]
     },
     "execution_count": 6,
     "metadata": {},
     "output_type": "execute_result"
    }
   ],
   "source": [
    "#Ordenar los indices de menor a mayor\n",
    "data_Serie.sort_index()"
   ]
  },
  {
   "cell_type": "code",
   "execution_count": 7,
   "id": "8446c1e1",
   "metadata": {},
   "outputs": [
    {
     "data": {
      "text/plain": [
       "Karla       40\n",
       "Luis        20\n",
       "Jorge       34\n",
       "Carlo       28\n",
       "Medelein    60\n",
       "dtype: int64"
      ]
     },
     "execution_count": 7,
     "metadata": {},
     "output_type": "execute_result"
    }
   ],
   "source": [
    "#Crear un dataSerie\n",
    "data_serie_2 = pd.Series([40,20,34,28,60], index=[\"Karla\",\"Luis\",\"Jorge\",\"Carlo\",\"Medelein\"])\n",
    "data_serie_2"
   ]
  },
  {
   "cell_type": "code",
   "execution_count": 8,
   "id": "57c18c11",
   "metadata": {},
   "outputs": [
    {
     "data": {
      "text/plain": [
       "Carlo       28\n",
       "Jorge       34\n",
       "Karla       40\n",
       "Luis        20\n",
       "Medelein    60\n",
       "dtype: int64"
      ]
     },
     "execution_count": 8,
     "metadata": {},
     "output_type": "execute_result"
    }
   ],
   "source": [
    "#ordenar por indice: alfabeticamente\n",
    "data_serie_2.sort_index()"
   ]
  },
  {
   "cell_type": "code",
   "execution_count": 10,
   "id": "e43fde0c",
   "metadata": {},
   "outputs": [
    {
     "data": {
      "text/plain": [
       "Luis        20\n",
       "Carlo       28\n",
       "Jorge       34\n",
       "Karla       40\n",
       "Medelein    60\n",
       "dtype: int64"
      ]
     },
     "execution_count": 10,
     "metadata": {},
     "output_type": "execute_result"
    }
   ],
   "source": [
    "#ordenar por valor: de mayor a menor\n",
    "data_serie_2.sort_values()"
   ]
  },
  {
   "cell_type": "code",
   "execution_count": 12,
   "id": "b31069e9",
   "metadata": {},
   "outputs": [
    {
     "data": {
      "text/plain": [
       "0     7.0\n",
       "1     NaN\n",
       "2    -2.0\n",
       "3     0.0\n",
       "4     NaN\n",
       "5     8.0\n",
       "6    -5.0\n",
       "7     NaN\n",
       "8    40.0\n",
       "dtype: float64"
      ]
     },
     "execution_count": 12,
     "metadata": {},
     "output_type": "execute_result"
    }
   ],
   "source": [
    "#Crear un dataSerie\n",
    "data_serie_3 = pd.Series([7,np.nan,-2,0,np.nan,8,-5,np.nan,40.0])\n",
    "data_serie_3"
   ]
  },
  {
   "cell_type": "code",
   "execution_count": 13,
   "id": "fb8b4ec2",
   "metadata": {},
   "outputs": [
    {
     "data": {
      "text/plain": [
       "6    -5.0\n",
       "2    -2.0\n",
       "3     0.0\n",
       "0     7.0\n",
       "5     8.0\n",
       "8    40.0\n",
       "1     NaN\n",
       "4     NaN\n",
       "7     NaN\n",
       "dtype: float64"
      ]
     },
     "execution_count": 13,
     "metadata": {},
     "output_type": "execute_result"
    }
   ],
   "source": [
    "#ordenar por valores, los datos NaN los envia al final\n",
    "data_serie_3.sort_values()"
   ]
  },
  {
   "cell_type": "code",
   "execution_count": null,
   "id": "0f0b56ce",
   "metadata": {},
   "outputs": [],
   "source": []
  }
 ],
 "metadata": {
  "kernelspec": {
   "display_name": "Python 3 (ipykernel)",
   "language": "python",
   "name": "python3"
  },
  "language_info": {
   "codemirror_mode": {
    "name": "ipython",
    "version": 3
   },
   "file_extension": ".py",
   "mimetype": "text/x-python",
   "name": "python",
   "nbconvert_exporter": "python",
   "pygments_lexer": "ipython3",
   "version": "3.9.12"
  }
 },
 "nbformat": 4,
 "nbformat_minor": 5
}
