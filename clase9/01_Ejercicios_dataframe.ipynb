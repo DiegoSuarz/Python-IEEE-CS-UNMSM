{
 "cells": [
  {
   "cell_type": "code",
   "execution_count": 1,
   "id": "3976f511",
   "metadata": {},
   "outputs": [],
   "source": [
    "import numpy as np\n",
    "import pandas as pd"
   ]
  },
  {
   "cell_type": "code",
   "execution_count": 2,
   "id": "aff45595",
   "metadata": {},
   "outputs": [
    {
     "data": {
      "text/plain": [
       "{'puesto': [1, 2, 3, 4, 5, 6],\n",
       " 'seccion': ['B', 'C', 'A', 'C', 'E', 'F'],\n",
       " 'promedio': array([ -1.09311606,   0.83711754,  19.26607619, -16.67814215,\n",
       "         29.12147841,   2.20887932])}"
      ]
     },
     "execution_count": 2,
     "metadata": {},
     "output_type": "execute_result"
    }
   ],
   "source": [
    "#crear un diccionario para mi dataFrame\n",
    "dict_data = {\n",
    "    'puesto' : [1,2,3,4,5,6],\n",
    "    'seccion' : ['B','C','A','C','E','F'],\n",
    "    'promedio' : np.random.normal(0,20,6) #valores ramdom de 0 a 20, 6 valores\n",
    "}\n",
    "\n",
    "dict_data"
   ]
  },
  {
   "cell_type": "code",
   "execution_count": 5,
   "id": "e073d78c",
   "metadata": {},
   "outputs": [
    {
     "data": {
      "text/html": [
       "<div>\n",
       "<style scoped>\n",
       "    .dataframe tbody tr th:only-of-type {\n",
       "        vertical-align: middle;\n",
       "    }\n",
       "\n",
       "    .dataframe tbody tr th {\n",
       "        vertical-align: top;\n",
       "    }\n",
       "\n",
       "    .dataframe thead th {\n",
       "        text-align: right;\n",
       "    }\n",
       "</style>\n",
       "<table border=\"1\" class=\"dataframe\">\n",
       "  <thead>\n",
       "    <tr style=\"text-align: right;\">\n",
       "      <th></th>\n",
       "      <th>puesto</th>\n",
       "      <th>seccion</th>\n",
       "      <th>promedio</th>\n",
       "    </tr>\n",
       "  </thead>\n",
       "  <tbody>\n",
       "    <tr>\n",
       "      <th>2021-01-01</th>\n",
       "      <td>1</td>\n",
       "      <td>B</td>\n",
       "      <td>-1.093116</td>\n",
       "    </tr>\n",
       "    <tr>\n",
       "      <th>2021-01-02</th>\n",
       "      <td>2</td>\n",
       "      <td>C</td>\n",
       "      <td>0.837118</td>\n",
       "    </tr>\n",
       "    <tr>\n",
       "      <th>2021-01-03</th>\n",
       "      <td>3</td>\n",
       "      <td>A</td>\n",
       "      <td>19.266076</td>\n",
       "    </tr>\n",
       "    <tr>\n",
       "      <th>2021-01-04</th>\n",
       "      <td>4</td>\n",
       "      <td>C</td>\n",
       "      <td>-16.678142</td>\n",
       "    </tr>\n",
       "    <tr>\n",
       "      <th>2021-01-05</th>\n",
       "      <td>5</td>\n",
       "      <td>E</td>\n",
       "      <td>29.121478</td>\n",
       "    </tr>\n",
       "    <tr>\n",
       "      <th>2021-01-06</th>\n",
       "      <td>6</td>\n",
       "      <td>F</td>\n",
       "      <td>2.208879</td>\n",
       "    </tr>\n",
       "  </tbody>\n",
       "</table>\n",
       "</div>"
      ],
      "text/plain": [
       "            puesto seccion   promedio\n",
       "2021-01-01       1       B  -1.093116\n",
       "2021-01-02       2       C   0.837118\n",
       "2021-01-03       3       A  19.266076\n",
       "2021-01-04       4       C -16.678142\n",
       "2021-01-05       5       E  29.121478\n",
       "2021-01-06       6       F   2.208879"
      ]
     },
     "execution_count": 5,
     "metadata": {},
     "output_type": "execute_result"
    }
   ],
   "source": [
    "#Creando dataframe\n",
    "frame_data = pd.DataFrame(dict_data, index = pd.date_range('2021-01-01',periods=6))\n",
    "frame_data"
   ]
  },
  {
   "cell_type": "code",
   "execution_count": 6,
   "id": "1b144578",
   "metadata": {},
   "outputs": [
    {
     "data": {
      "text/plain": [
       "2021-01-04   -16.678142\n",
       "2021-01-01    -1.093116\n",
       "2021-01-02     0.837118\n",
       "2021-01-06     2.208879\n",
       "2021-01-03    19.266076\n",
       "2021-01-05    29.121478\n",
       "Name: promedio, dtype: float64"
      ]
     },
     "execution_count": 6,
     "metadata": {},
     "output_type": "execute_result"
    }
   ],
   "source": [
    "#ordenando los valores de la columna promedio:\n",
    "frame_data['promedio'].sort_values()"
   ]
  },
  {
   "cell_type": "code",
   "execution_count": 8,
   "id": "a13ca8ba",
   "metadata": {},
   "outputs": [
    {
     "data": {
      "text/plain": [
       "Timestamp('2021-01-05 00:00:00', freq='D')"
      ]
     },
     "execution_count": 8,
     "metadata": {},
     "output_type": "execute_result"
    }
   ],
   "source": [
    "#obtener el indice mayor\n",
    "frame_data['promedio'].idxmax()"
   ]
  },
  {
   "cell_type": "code",
   "execution_count": 9,
   "id": "b256da6f",
   "metadata": {},
   "outputs": [
    {
     "data": {
      "text/plain": [
       "Timestamp('2021-01-04 00:00:00', freq='D')"
      ]
     },
     "execution_count": 9,
     "metadata": {},
     "output_type": "execute_result"
    }
   ],
   "source": [
    "#obtener el indice menor\n",
    "frame_data['promedio'].idxmin()"
   ]
  },
  {
   "cell_type": "code",
   "execution_count": null,
   "id": "1fbd67fd",
   "metadata": {},
   "outputs": [],
   "source": [
    "\n"
   ]
  }
 ],
 "metadata": {
  "kernelspec": {
   "display_name": "Python 3 (ipykernel)",
   "language": "python",
   "name": "python3"
  },
  "language_info": {
   "codemirror_mode": {
    "name": "ipython",
    "version": 3
   },
   "file_extension": ".py",
   "mimetype": "text/x-python",
   "name": "python",
   "nbconvert_exporter": "python",
   "pygments_lexer": "ipython3",
   "version": "3.9.12"
  }
 },
 "nbformat": 4,
 "nbformat_minor": 5
}
