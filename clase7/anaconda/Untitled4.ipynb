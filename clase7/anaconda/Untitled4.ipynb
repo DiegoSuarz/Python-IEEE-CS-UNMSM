{
 "cells": [
  {
   "cell_type": "code",
   "execution_count": 1,
   "id": "56f7a979",
   "metadata": {},
   "outputs": [],
   "source": [
    "import json"
   ]
  },
  {
   "cell_type": "code",
   "execution_count": 2,
   "id": "5a45b9d1",
   "metadata": {},
   "outputs": [
    {
     "data": {
      "text/plain": [
       "'{\"nombre\": \"python\", \"tipo\":\"Backend\",\"Paradigma\":\"POO\"}'"
      ]
     },
     "execution_count": 2,
     "metadata": {},
     "output_type": "execute_result"
    }
   ],
   "source": [
    "#Creando un Json Data\n",
    "jsonData = '{\"nombre\": \"python\", \"tipo\":\"Backend\",\"Paradigma\":\"POO\"}'\n",
    "jsonData"
   ]
  },
  {
   "cell_type": "code",
   "execution_count": 3,
   "id": "5df0a6a2",
   "metadata": {},
   "outputs": [
    {
     "data": {
      "text/plain": [
       "{'nombre': 'python', 'tipo': 'Backend', 'Paradigma': 'POO'}"
      ]
     },
     "execution_count": 3,
     "metadata": {},
     "output_type": "execute_result"
    }
   ],
   "source": [
    " #convertir JSON a un valor Phyton (objeto) en un diccionario\n",
    "dictionaryToJson = json.loads(jsonData)\n",
    "dictionaryToJson"
   ]
  },
  {
   "cell_type": "code",
   "execution_count": null,
   "id": "b7669494",
   "metadata": {},
   "outputs": [],
   "source": []
  }
 ],
 "metadata": {
  "kernelspec": {
   "display_name": "Python 3 (ipykernel)",
   "language": "python",
   "name": "python3"
  },
  "language_info": {
   "codemirror_mode": {
    "name": "ipython",
    "version": 3
   },
   "file_extension": ".py",
   "mimetype": "text/x-python",
   "name": "python",
   "nbconvert_exporter": "python",
   "pygments_lexer": "ipython3",
   "version": "3.9.12"
  }
 },
 "nbformat": 4,
 "nbformat_minor": 5
}
