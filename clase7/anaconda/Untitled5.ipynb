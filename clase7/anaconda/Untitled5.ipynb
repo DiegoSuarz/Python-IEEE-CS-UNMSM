{
 "cells": [
  {
   "cell_type": "code",
   "execution_count": 1,
   "id": "f33e8f44",
   "metadata": {},
   "outputs": [],
   "source": [
    "import json"
   ]
  },
  {
   "cell_type": "code",
   "execution_count": 2,
   "id": "3935fd08",
   "metadata": {},
   "outputs": [
    {
     "data": {
      "text/plain": [
       "{'nombre': 'María', 'Edad': 26, 'dni': '43234124'}"
      ]
     },
     "execution_count": 2,
     "metadata": {},
     "output_type": "execute_result"
    }
   ],
   "source": [
    "#Creando una variable tipo diccionario\n",
    "pythonDic = {\"nombre\": \"María\", \"Edad\": 26, \"dni\": \"43234124\"}\n",
    "pythonDic"
   ]
  },
  {
   "cell_type": "code",
   "execution_count": 3,
   "id": "3e4732de",
   "metadata": {},
   "outputs": [
    {
     "data": {
      "text/plain": [
       "'{\"nombre\": \"Mar\\\\u00eda\", \"Edad\": 26, \"dni\": \"43234124\"}'"
      ]
     },
     "execution_count": 3,
     "metadata": {},
     "output_type": "execute_result"
    }
   ],
   "source": [
    "#Convirtienedo el diccionario a data Json \n",
    "json.dumps(pythonDic)"
   ]
  },
  {
   "cell_type": "code",
   "execution_count": null,
   "id": "c1f8b400",
   "metadata": {},
   "outputs": [],
   "source": []
  }
 ],
 "metadata": {
  "kernelspec": {
   "display_name": "Python 3 (ipykernel)",
   "language": "python",
   "name": "python3"
  },
  "language_info": {
   "codemirror_mode": {
    "name": "ipython",
    "version": 3
   },
   "file_extension": ".py",
   "mimetype": "text/x-python",
   "name": "python",
   "nbconvert_exporter": "python",
   "pygments_lexer": "ipython3",
   "version": "3.9.12"
  }
 },
 "nbformat": 4,
 "nbformat_minor": 5
}
