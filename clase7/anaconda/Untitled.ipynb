{
 "cells": [
  {
   "cell_type": "code",
   "execution_count": 2,
   "id": "c05a0d0d",
   "metadata": {},
   "outputs": [
    {
     "data": {
      "text/plain": [
       "'1.4.2'"
      ]
     },
     "execution_count": 2,
     "metadata": {},
     "output_type": "execute_result"
    }
   ],
   "source": [
    "import pandas as pd\n",
    "import numpy as np\n",
    "\n",
    "pd.__version__"
   ]
  },
  {
   "cell_type": "code",
   "execution_count": 3,
   "id": "5256a6ba",
   "metadata": {},
   "outputs": [
    {
     "data": {
      "text/plain": [
       "0    500\n",
       "dtype: int64"
      ]
     },
     "execution_count": 3,
     "metadata": {},
     "output_type": "execute_result"
    }
   ],
   "source": [
    "s1 = pd.Series(500)\n",
    "s1"
   ]
  },
  {
   "cell_type": "code",
   "execution_count": 6,
   "id": "a96cc089",
   "metadata": {},
   "outputs": [
    {
     "data": {
      "text/plain": [
       "0   -10\n",
       "1     0\n",
       "2    50\n",
       "3    -5\n",
       "dtype: int64"
      ]
     },
     "execution_count": 6,
     "metadata": {},
     "output_type": "execute_result"
    }
   ],
   "source": [
    "s2 = pd.Series([-10,0,50,-5])\n",
    "s2"
   ]
  },
  {
   "cell_type": "code",
   "execution_count": 7,
   "id": "7ab97f83",
   "metadata": {},
   "outputs": [
    {
     "data": {
      "text/plain": [
       "500"
      ]
     },
     "execution_count": 7,
     "metadata": {},
     "output_type": "execute_result"
    }
   ],
   "source": [
    "s1[0]"
   ]
  },
  {
   "cell_type": "code",
   "execution_count": 8,
   "id": "64f3ff44",
   "metadata": {},
   "outputs": [
    {
     "data": {
      "text/plain": [
       "-5"
      ]
     },
     "execution_count": 8,
     "metadata": {},
     "output_type": "execute_result"
    }
   ],
   "source": [
    "s2[3]"
   ]
  },
  {
   "cell_type": "code",
   "execution_count": 9,
   "id": "e4ba383f",
   "metadata": {},
   "outputs": [
    {
     "data": {
      "text/plain": [
       "array([-10,   0,  50,  -5], dtype=int64)"
      ]
     },
     "execution_count": 9,
     "metadata": {},
     "output_type": "execute_result"
    }
   ],
   "source": [
    "s2.values\n"
   ]
  },
  {
   "cell_type": "code",
   "execution_count": 10,
   "id": "ed1128c4",
   "metadata": {},
   "outputs": [
    {
     "data": {
      "text/plain": [
       "RangeIndex(start=0, stop=4, step=1)"
      ]
     },
     "execution_count": 10,
     "metadata": {},
     "output_type": "execute_result"
    }
   ],
   "source": [
    "s2.index"
   ]
  },
  {
   "cell_type": "code",
   "execution_count": 13,
   "id": "97e12764",
   "metadata": {},
   "outputs": [
    {
     "data": {
      "text/plain": [
       "Nombre         Karla\n",
       "Apellido    Gonzales\n",
       "Edad              34\n",
       "dni         12323445\n",
       "dtype: object"
      ]
     },
     "execution_count": 13,
     "metadata": {},
     "output_type": "execute_result"
    }
   ],
   "source": [
    "s3 = pd.Series([\"Karla\",\"Gonzales\",34, 12323445], index=[\"Nombre\",\"Apellido\",\"Edad\",\"dni\"])\n",
    "s3"
   ]
  },
  {
   "cell_type": "code",
   "execution_count": 14,
   "id": "252b9096",
   "metadata": {},
   "outputs": [
    {
     "data": {
      "text/plain": [
       "0     0\n",
       "1    10\n",
       "2    60\n",
       "3     5\n",
       "dtype: int64"
      ]
     },
     "execution_count": 14,
     "metadata": {},
     "output_type": "execute_result"
    }
   ],
   "source": [
    "s2 + 10\n"
   ]
  },
  {
   "cell_type": "code",
   "execution_count": 15,
   "id": "2ac112ed",
   "metadata": {},
   "outputs": [
    {
     "data": {
      "text/plain": [
       "0    -500\n",
       "1       0\n",
       "2    2500\n",
       "3    -250\n",
       "dtype: int64"
      ]
     },
     "execution_count": 15,
     "metadata": {},
     "output_type": "execute_result"
    }
   ],
   "source": [
    "s2*50"
   ]
  },
  {
   "cell_type": "code",
   "execution_count": 16,
   "id": "043672d5",
   "metadata": {},
   "outputs": [
    {
     "data": {
      "text/plain": [
       "Index(['Nombre', 'Apellido', 'Edad', 'dni'], dtype='object')"
      ]
     },
     "execution_count": 16,
     "metadata": {},
     "output_type": "execute_result"
    }
   ],
   "source": [
    "#Extrayendo los index de mi Data Series (s3)\n",
    "s3.index\n"
   ]
  },
  {
   "cell_type": "code",
   "execution_count": 17,
   "id": "8d40cc6b",
   "metadata": {},
   "outputs": [
    {
     "data": {
      "text/plain": [
       "'Karla'"
      ]
     },
     "execution_count": 17,
     "metadata": {},
     "output_type": "execute_result"
    }
   ],
   "source": [
    "s3[\"Nombre\"]"
   ]
  },
  {
   "cell_type": "code",
   "execution_count": 18,
   "id": "5ffe379c",
   "metadata": {},
   "outputs": [
    {
     "data": {
      "text/plain": [
       "'Karla'"
      ]
     },
     "execution_count": 18,
     "metadata": {},
     "output_type": "execute_result"
    }
   ],
   "source": [
    "s3[0]"
   ]
  },
  {
   "cell_type": "code",
   "execution_count": 19,
   "id": "6e649693",
   "metadata": {},
   "outputs": [
    {
     "data": {
      "text/plain": [
       "Maria      100\n",
       "Luisa       50\n",
       "Evelyn    1000\n",
       "Luis      5000\n",
       "dtype: int64"
      ]
     },
     "execution_count": 19,
     "metadata": {},
     "output_type": "execute_result"
    }
   ],
   "source": [
    "nombres =[\"Maria\",\"Luisa\",\"Evelyn\",\"Luis\"]\n",
    "sueldos= [100,50,1000,5000]\n",
    "\n",
    "cuenta = pd.Series(sueldos, index = nombres)\n",
    "cuenta"
   ]
  },
  {
   "cell_type": "code",
   "execution_count": 20,
   "id": "bdb68a91",
   "metadata": {},
   "outputs": [
    {
     "data": {
      "text/plain": [
       "Apellido    NaN\n",
       "Edad        NaN\n",
       "Evelyn      NaN\n",
       "Luis        NaN\n",
       "Luisa       NaN\n",
       "Maria       NaN\n",
       "Nombre      NaN\n",
       "dni         NaN\n",
       "dtype: object"
      ]
     },
     "execution_count": 20,
     "metadata": {},
     "output_type": "execute_result"
    }
   ],
   "source": [
    "#suma de datos Series:\n",
    "s3 + cuenta"
   ]
  },
  {
   "cell_type": "code",
   "execution_count": null,
   "id": "d78f11b4",
   "metadata": {},
   "outputs": [],
   "source": []
  }
 ],
 "metadata": {
  "kernelspec": {
   "display_name": "Python 3 (ipykernel)",
   "language": "python",
   "name": "python3"
  },
  "language_info": {
   "codemirror_mode": {
    "name": "ipython",
    "version": 3
   },
   "file_extension": ".py",
   "mimetype": "text/x-python",
   "name": "python",
   "nbconvert_exporter": "python",
   "pygments_lexer": "ipython3",
   "version": "3.9.12"
  }
 },
 "nbformat": 4,
 "nbformat_minor": 5
}
